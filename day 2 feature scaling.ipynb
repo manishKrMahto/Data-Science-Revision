{
 "cells": [
  {
   "cell_type": "code",
   "execution_count": 5,
   "id": "6477e1c8-271b-473b-a81c-11f70d502259",
   "metadata": {},
   "outputs": [
    {
     "data": {
      "text/plain": [
       "array([[   1,    5],\n",
       "       [   2,   -2],\n",
       "       [   3, 5465]])"
      ]
     },
     "execution_count": 5,
     "metadata": {},
     "output_type": "execute_result"
    }
   ],
   "source": [
    "import numpy as np\n",
    "X = np.array (\n",
    "    [ [1, 5],\n",
    "      [2, -2],\n",
    "      [3,  5465] ])\n",
    "X"
   ]
  },
  {
   "cell_type": "markdown",
   "id": "e38d119c-69f1-4a37-b36d-ab4bf3333ba2",
   "metadata": {},
   "source": [
    "# StandardScaler"
   ]
  },
  {
   "cell_type": "code",
   "execution_count": 2,
   "id": "641cd7fe-3c0c-42e3-82bd-c333e1823d08",
   "metadata": {},
   "outputs": [],
   "source": [
    "from sklearn.preprocessing import StandardScaler"
   ]
  },
  {
   "cell_type": "code",
   "execution_count": null,
   "id": "188d97d9-c6d9-4c4f-891e-73da31392c4d",
   "metadata": {},
   "outputs": [],
   "source": [
    "!pip install scikit-learn"
   ]
  },
  {
   "cell_type": "code",
   "execution_count": 6,
   "id": "0177f2b9-93cb-49cf-847d-7df5f8d85b9a",
   "metadata": {},
   "outputs": [],
   "source": [
    "scaler = StandardScaler()"
   ]
  },
  {
   "cell_type": "code",
   "execution_count": 11,
   "id": "5047b3e5-5d4a-42c3-9b0d-9f3b6d780f2c",
   "metadata": {},
   "outputs": [
    {
     "data": {
      "text/plain": [
       "array([[-1.22474487, -0.7057474 ],\n",
       "       [ 0.        , -0.70846529],\n",
       "       [ 1.22474487,  1.41421269]])"
      ]
     },
     "execution_count": 11,
     "metadata": {},
     "output_type": "execute_result"
    }
   ],
   "source": [
    "scaled_value = scaler.fit_transform(X)\n",
    "scaled_value"
   ]
  },
  {
   "cell_type": "code",
   "execution_count": 12,
   "id": "ddc14aaa-ff19-44cf-97bb-ed3e8ea1d252",
   "metadata": {},
   "outputs": [
    {
     "data": {
      "text/plain": [
       "array([[ 1.000e+00,  5.000e+00],\n",
       "       [ 2.000e+00, -2.000e+00],\n",
       "       [ 3.000e+00,  5.465e+03]])"
      ]
     },
     "execution_count": 12,
     "metadata": {},
     "output_type": "execute_result"
    }
   ],
   "source": [
    "scaler.inverse_transform(scaled_value)"
   ]
  },
  {
   "cell_type": "markdown",
   "id": "97af4c3f-ddc6-4c5d-93df-4edf8effd6a8",
   "metadata": {},
   "source": [
    "# MinMaxScaler"
   ]
  },
  {
   "cell_type": "code",
   "execution_count": 8,
   "id": "369a15ce-63bd-41aa-bfb4-6c94830bab33",
   "metadata": {},
   "outputs": [],
   "source": [
    "from sklearn.preprocessing import MinMaxScaler\n",
    "scaler2 = MinMaxScaler()"
   ]
  },
  {
   "cell_type": "code",
   "execution_count": 9,
   "id": "8508db21-131f-4377-9e5b-d7f3e387f2cd",
   "metadata": {},
   "outputs": [
    {
     "data": {
      "text/plain": [
       "array([[0.        , 0.00128041],\n",
       "       [0.5       , 0.        ],\n",
       "       [1.        , 1.        ]])"
      ]
     },
     "execution_count": 9,
     "metadata": {},
     "output_type": "execute_result"
    }
   ],
   "source": [
    "scaler2.fit_transform(X)"
   ]
  },
  {
   "cell_type": "code",
   "execution_count": null,
   "id": "152d96fd-9336-4d6e-a08d-2474861666bf",
   "metadata": {},
   "outputs": [],
   "source": []
  }
 ],
 "metadata": {
  "kernelspec": {
   "display_name": "Python 3 (ipykernel)",
   "language": "python",
   "name": "python3"
  },
  "language_info": {
   "codemirror_mode": {
    "name": "ipython",
    "version": 3
   },
   "file_extension": ".py",
   "mimetype": "text/x-python",
   "name": "python",
   "nbconvert_exporter": "python",
   "pygments_lexer": "ipython3",
   "version": "3.12.1"
  }
 },
 "nbformat": 4,
 "nbformat_minor": 5
}
